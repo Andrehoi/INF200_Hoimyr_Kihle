{
 "cells": [
  {
   "cell_type": "code",
   "execution_count": 32,
   "metadata": {},
   "outputs": [
    {
     "name": "stdout",
     "output_type": "stream",
     "text": [
      "The shortest game was in 4 throws, and longest in 41 throws.\n",
      "The median was 16.0, 17.06 as mean and 7.50 standard deviation.\n"
     ]
    }
   ],
   "source": [
    "# -*- coding: utf-8 -*-\n",
    "\n",
    "__author__ = 'sebastian kihle', 'andreas sandvik hoimyr'\n",
    "__email__ = 'sebaskih@nmbu.no', 'andrehoi@nmbu.no'\n",
    "\n",
    "import random\n",
    "import numpy as np\n",
    "\n",
    "\n",
    "def make_board():\n",
    "    \"\"\"Creates the game board with the desired ladders and chutes\"\"\"\n",
    "    num_tiles = [0 for _ in range(96)]\n",
    "\n",
    "    \"\"\"Makes ladders\"\"\"\n",
    "    num_tiles[1] = 39\n",
    "    num_tiles[9] = 2\n",
    "    num_tiles[37] = 16\n",
    "    num_tiles[44] = 19\n",
    "    num_tiles[50] = 30\n",
    "    num_tiles[66] = 17\n",
    "    num_tiles[69] = 17\n",
    "\n",
    "    \"\"\"Makes chutes\"\"\"\n",
    "    num_tiles[25] = -19\n",
    "    num_tiles[34] = -30\n",
    "    num_tiles[43] = -12\n",
    "    num_tiles[57] = -19\n",
    "    num_tiles[65] = -37\n",
    "    num_tiles[75] = -62\n",
    "    num_tiles[88] = -17\n",
    "\n",
    "    return num_tiles\n",
    "\n",
    "\n",
    "def die_roll():\n",
    "    \"\"\"Rolls die between 1 and 6\"\"\"\n",
    "    return random.randint(1, 6)\n",
    "\n",
    "\n",
    "def player_turn(player, board):\n",
    "    \"\"\"Function that simulates one die throw for one player and moves up or\n",
    "    down depending on the value of the position on the table\"\"\"\n",
    "\n",
    "    roll = die_roll()\n",
    "\n",
    "    player[1] += roll + board[player[1] + roll]\n",
    "\n",
    "    player[2] += 1\n",
    "\n",
    "    return player\n",
    "\n",
    "\n",
    "def single_game(num_players):\n",
    "\n",
    "    \"\"\"\n",
    "    Returns duration of single game.\n",
    "\n",
    "    Arguments\n",
    "    ---------\n",
    "    num_players : int\n",
    "        Number of players in the game\n",
    "\n",
    "    Returns\n",
    "    -------\n",
    "    num_moves : int\n",
    "        Number of moves the winning player needed to reach the goal\n",
    "    \"\"\"\n",
    "\n",
    "    board = make_board()\n",
    "    \"\"\"Create list with all players named PL (1 to n)\"\"\"\n",
    "    game_players = []\n",
    "    for number in range(num_players):\n",
    "        game_players.append(\"PL {0}\".format(number))\n",
    "\n",
    "    \"\"\"Makes a list of lists that keeps track of player, position on the board \n",
    "    and number of die throws\"\"\"\n",
    "    player_position = []\n",
    "\n",
    "    for player in game_players:\n",
    "        player_position.append([player, 0, 0])\n",
    "\n",
    "    \"\"\"Plays the game until a player reaches position 90 on the board or \n",
    "    higher\"\"\"\n",
    "    while True:\n",
    "        for player in range(num_players):\n",
    "            player_turn(player_position[player], board)\n",
    "\n",
    "            if player_position[player][1] >= 90:\n",
    "                return player_position[player][2]\n",
    "\n",
    "\n",
    "def multiple_games(num_games, num_players):\n",
    "    \"\"\"\n",
    "     Returns durations of a number of games.\n",
    "\n",
    "     Arguments\n",
    "     ---------\n",
    "     num_games : int\n",
    "         Number of games to play\n",
    "     num_players : int\n",
    "         Number of players in the game\n",
    "\n",
    "     Returns\n",
    "     -------\n",
    "     num_moves : list\n",
    "         List with the number of moves needed in each game.\n",
    "     \"\"\"\n",
    "\n",
    "    moves = []\n",
    "    for _ in range(num_games):\n",
    "        moves.append(single_game(num_players))\n",
    "\n",
    "    return moves\n",
    "\n",
    "\n",
    "def multi_game_experiment(num_games, num_players, seed):\n",
    "    \"\"\"\n",
    "    Returns durations of a number of games when playing with given seed.\n",
    "\n",
    "    Arguments\n",
    "    ---------\n",
    "    num_games : int\n",
    "        Number of games to play\n",
    "    num_players : int\n",
    "        Number of players in the game\n",
    "    seed : int\n",
    "        Seed used to initialise the random number generator\n",
    "\n",
    "    Returns\n",
    "    -------\n",
    "    num_moves : list\n",
    "        List with the number of moves needed in each game.\n",
    "    \"\"\"\n",
    "    random.seed(seed)\n",
    "    return multiple_games(num_games, num_players)\n",
    "\n",
    "\n",
    "if __name__ == '__main__':\n",
    "    games = multi_game_experiment(100, 4, 73)\n",
    "    shortest_duration = min(games)\n",
    "    longest_duration = max(games)\n",
    "    median_duration = np.median(games)\n",
    "    mean_duration = np.mean(games)\n",
    "    std_duration = np.std(games)\n",
    "\n",
    "    print(\"The shortest game was in {0:} throws, and longest in {1:} \"\n",
    "          \"throws.\".format(shortest_duration, longest_duration))\n",
    "\n",
    "    print(\"The median was {0:}, {1:} as mean and {2:.2f} standard \"\n",
    "          \"deviation.\".format(median_duration, mean_duration, std_duration))\n"
   ]
  },
  {
   "cell_type": "code",
   "execution_count": 33,
   "metadata": {},
   "outputs": [
    {
     "data": {
      "text/plain": [
       "Text(0, 0.5, 'Games')"
      ]
     },
     "execution_count": 33,
     "metadata": {},
     "output_type": "execute_result"
    },
    {
     "data": {
      "image/png": "[encoded data removed]",
      "text/plain": [
       "<Figure size 432x288 with 1 Axes>"
      ]
     },
     "metadata": {
      "needs_background": "light"
     },
     "output_type": "display_data"
    }
   ],
   "source": [
    "import matplotlib.pyplot as plt\n",
    "\n",
    "plt.hist(multiple_games(100, 1))\n",
    "plt.title(\"Snakes and chutes with 1 player die roll distribution\")\n",
    "plt.xlabel(\"Die rolls\")\n",
    "plt.ylabel(\"Games\")"
   ]
  },
  {
   "cell_type": "code",
   "execution_count": 34,
   "metadata": {},
   "outputs": [
    {
     "data": {
      "text/plain": [
       "Text(0, 0.5, 'Games')"
      ]
     },
     "execution_count": 34,
     "metadata": {},
     "output_type": "execute_result"
    },
    {
     "data": {
      "image/png": "[encoded data removed]",
      "text/plain": [
       "<Figure size 432x288 with 1 Axes>"
      ]
     },
     "metadata": {
      "needs_background": "light"
     },
     "output_type": "display_data"
    }
   ],
   "source": [
    "plt.hist(multiple_games(1000, 2))\n",
    "plt.title(\"Snakes and chutes game with 2 players\")\n",
    "plt.xlabel(\"Die rolls\")\n",
    "plt.ylabel(\"Games\")"
   ]
  },
  {
   "cell_type": "code",
   "execution_count": 35,
   "metadata": {},
   "outputs": [
    {
     "data": {
      "text/plain": [
       "Text(0, 0.5, 'Games')"
      ]
     },
     "execution_count": 35,
     "metadata": {},
     "output_type": "execute_result"
    },
    {
     "data": {
      "image/png": "[encoded data removed]",
      "text/plain": [
       "<Figure size 432x288 with 1 Axes>"
      ]
     },
     "metadata": {
      "needs_background": "light"
     },
     "output_type": "display_data"
    }
   ],
   "source": [
    "plt.hist(multiple_games(1000, 4))\n",
    "plt.title(\"Snakes and chutes game with 4 players\")\n",
    "plt.xlabel(\"Die rolls\")\n",
    "plt.ylabel(\"Games\")"
   ]
  },
  {
   "cell_type": "code",
   "execution_count": 36,
   "metadata": {},
   "outputs": [
    {
     "data": {
      "text/plain": [
       "Text(0, 0.5, 'Games')"
      ]
     },
     "execution_count": 36,
     "metadata": {},
     "output_type": "execute_result"
    },
    {
     "data": {
      "image/png": "[encoded data removed]",
      "text/plain": [
       "<Figure size 432x288 with 1 Axes>"
      ]
     },
     "metadata": {
      "needs_background": "light"
     },
     "output_type": "display_data"
    }
   ],
   "source": [
    "plt.hist(multiple_games(1000, 8))\n",
    "plt.title(\"Snakes and chutes game with 8 players\")\n",
    "plt.xlabel(\"Die rolls\")\n",
    "plt.ylabel(\"Games\")"
   ]
  },
  {
   "cell_type": "code",
   "execution_count": null,
   "metadata": {},
   "outputs": [],
   "source": []
  }
 ],
 "metadata": {
  "kernelspec": {
   "display_name": "Python 3",
   "language": "python",
   "name": "python3"
  },
  "language_info": {
   "codemirror_mode": {
    "name": "ipython",
    "version": 3
   },
   "file_extension": ".py",
   "mimetype": "text/x-python",
   "name": "python",
   "nbconvert_exporter": "python",
   "pygments_lexer": "ipython3",
   "version": "3.7.3"
  }
 },
 "nbformat": 4,
 "nbformat_minor": 2
}
